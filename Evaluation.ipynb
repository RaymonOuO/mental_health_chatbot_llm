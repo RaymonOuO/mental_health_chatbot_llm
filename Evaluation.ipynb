{
 "cells": [
  {
   "cell_type": "code",
   "execution_count": null,
   "metadata": {
    "colab": {
     "base_uri": "https://localhost:8080/"
    },
    "executionInfo": {
     "elapsed": 8587,
     "status": "ok",
     "timestamp": 1744755196509,
     "user": {
      "displayName": "Yuchen Zhang",
      "userId": "02783796136172681640"
     },
     "user_tz": 240
    },
    "id": "hAoOAdlGfIYf",
    "outputId": "00dacaea-1fd1-4bad-d4fa-fee2b3b8be44"
   },
   "outputs": [
    {
     "name": "stdout",
     "output_type": "stream",
     "text": [
      "\u001b[?25l   \u001b[90m━━━━━━━━━━━━━━━━━━━━━━━━━━━━━━━━━━━━━━━━\u001b[0m \u001b[32m0.0/61.1 kB\u001b[0m \u001b[31m?\u001b[0m eta \u001b[36m-:--:--\u001b[0m\r\u001b[2K   \u001b[90m━━━━━━━━━━━━━━━━━━━━━━━━━━━━━━━━━━━━━━━━\u001b[0m \u001b[32m61.1/61.1 kB\u001b[0m \u001b[31m5.0 MB/s\u001b[0m eta \u001b[36m0:00:00\u001b[0m\n",
      "\u001b[?25h"
     ]
    }
   ],
   "source": [
    "!pip install -q -U transformers datasets peft accelerate bitsandbytes evaluate rouge_score bert_score\n",
    "!pip install -q xformers"
   ]
  },
  {
   "cell_type": "code",
   "execution_count": null,
   "metadata": {
    "colab": {
     "base_uri": "https://localhost:8080/"
    },
    "executionInfo": {
     "elapsed": 743,
     "status": "ok",
     "timestamp": 1744755159702,
     "user": {
      "displayName": "Yuchen Zhang",
      "userId": "02783796136172681640"
     },
     "user_tz": 240
    },
    "id": "NkLB77lte8zn",
    "outputId": "e02a6865-32b6-454b-a2c0-876445e6fb43"
   },
   "outputs": [
    {
     "name": "stdout",
     "output_type": "stream",
     "text": [
      "Drive already mounted at /content/drive; to attempt to forcibly remount, call drive.mount(\"/content/drive\", force_remount=True).\n"
     ]
    }
   ],
   "source": [
    "from google.colab import drive\n",
    "drive.mount('/content/drive')"
   ]
  },
  {
   "cell_type": "code",
   "execution_count": null,
   "metadata": {
    "id": "b3OfZcfSe-3y"
   },
   "outputs": [],
   "source": [
    "from datasets import load_dataset\n",
    "from transformers import AutoTokenizer, AutoModelForCausalLM, pipeline\n",
    "from evaluate import load as load_metric\n",
    "import torch"
   ]
  },
  {
   "cell_type": "code",
   "execution_count": null,
   "metadata": {
    "id": "kY8GRnBpgRcI"
   },
   "outputs": [],
   "source": [
    "# Load dataset\n",
    "dataset = load_dataset(\"Amod/mental_health_counseling_conversations\")\n",
    "split_dataset = dataset[\"train\"].train_test_split(test_size=0.1, seed=42)\n",
    "test_set = split_dataset[\"test\"]\n",
    "\n",
    "# Load fine-tuned model & tokenizer\n",
    "finetuned_model_dir = \"/content/drive/MyDrive/lora-llama3-mental-health\"\n",
    "tokenizer = AutoTokenizer.from_pretrained(finetuned_model_dir)\n",
    "model = AutoModelForCausalLM.from_pretrained(finetuned_model_dir, device_map=\"auto\", torch_dtype=torch.float16)\n",
    "\n",
    "# Load baseline model (original LLaMA3)\n",
    "baseline_model = AutoModelForCausalLM.from_pretrained(\"meta-llama/Llama-3.2-1B\", device_map=\"auto\", torch_dtype=torch.float16)\n",
    "baseline_tokenizer = AutoTokenizer.from_pretrained(\"meta-llama/Llama-3.2-1B\")\n",
    "\n",
    "# Generation function\n",
    "def generate_response(model, tokenizer, prompt):\n",
    "    input_ids = tokenizer(prompt, return_tensors=\"pt\").input_ids.cuda()\n",
    "    with torch.no_grad():\n",
    "        outputs = model.generate(input_ids, max_new_tokens=200, do_sample=True)\n",
    "    return tokenizer.decode(outputs[0], skip_special_tokens=True)\n",
    "\n",
    "# Chat format conversion\n",
    "def format_as_chat(context):\n",
    "    return f\"<|begin_of_text|><|start_header_id|>user<|end_header_id|>\\n{context}<|eot_id|>\\n<|start_header_id|>assistant<|end_header_id|>\\n\"\n",
    "\n",
    "# Run evaluation\n",
    "rouge = load_metric(\"rouge\")\n",
    "bertscore = load_metric(\"bertscore\")\n",
    "\n",
    "ft_preds, base_preds, refs = [], [], []\n",
    "\n",
    "print(\"Generating responses...\")\n",
    "for example in test_set.select(range(30)):  # Evaluate on 30 samples for speed\n",
    "    context = example[\"Context\"]\n",
    "    reference = example[\"Response\"]\n",
    "    prompt = format_as_chat(context)\n",
    "\n",
    "    finetuned_reply = generate_response(model, tokenizer, prompt)\n",
    "    baseline_reply = generate_response(baseline_model, baseline_tokenizer, prompt)\n",
    "\n",
    "    ft_preds.append(finetuned_reply)\n",
    "    base_preds.append(baseline_reply)\n",
    "    refs.append(reference)\n",
    "\n",
    "# Compute ROUGE\n",
    "ft_rouge = rouge.compute(predictions=ft_preds, references=refs)\n",
    "base_rouge = rouge.compute(predictions=base_preds, references=refs)\n",
    "\n",
    "# Compute BERTScore\n",
    "ft_bert = bertscore.compute(predictions=ft_preds, references=refs, lang=\"en\")\n",
    "base_bert = bertscore.compute(predictions=base_preds, references=refs, lang=\"en\")"
   ]
  },
  {
   "cell_type": "code",
   "execution_count": null,
   "metadata": {
    "colab": {
     "base_uri": "https://localhost:8080/"
    },
    "executionInfo": {
     "elapsed": 65,
     "status": "ok",
     "timestamp": 1744755677515,
     "user": {
      "displayName": "Yuchen Zhang",
      "userId": "02783796136172681640"
     },
     "user_tz": 240
    },
    "id": "kGC1BfORiszU",
    "outputId": "20099581-88ae-4914-9187-050db8cfe1ce"
   },
   "outputs": [
    {
     "name": "stdout",
     "output_type": "stream",
     "text": [
      "\n",
      "=== Evaluation Results ===\n",
      "[Finetuned Model]\n",
      "ROUGE-L: 0.1459\n",
      "BERTScore (F1): 0.8308\n",
      "\n",
      "[Baseline Model]\n",
      "ROUGE-L: 0.1102\n",
      "BERTScore (F1): 0.8007\n",
      "\n",
      "=== Sample Comparison ===\n",
      "\n",
      "[Context]: I didn't trust my wife when I found out that she had a new guy friend that she was texting and calling. I investigated him before I found out that he was gay and that there was nothing going on. Now all my wife and I do is fight about trust.\n",
      "\n",
      "[Reference]: Instead of fighting about trust, is it possible for you and your wife to talk with other about areas which upset each of you?Whenever feelings are hurt, knowing what exactly is problematic and being heard and understood by the partner, goes a long way to building trust.These type of discussions are hard to have, and especially for the first time.  A lot of emotions arise and often people lose their conversation focus from this.If you and your wife have a tough time opening up to each other, consider scheduling time with a couples therapist.Just by each of you committing time to invest in the relationship will show faith in the relationship, and this may contribute to restoring trust.\n",
      "\n",
      "[Finetuned]: user\n",
      "I didn't trust my wife when I found out that she had a new guy friend that she was texting and calling. I investigated him before I found out that he was gay and that there was nothing going on. Now all my wife and I do is fight about trust.\n",
      "assistant\n",
      "I am in a similar situation. My wife is a very sweet person. She has a very difficult past. She has been through a lot. I have been very patient and understanding. I am beginning to have doubts about the relationship. I need to know that I can trust her. How can I do this?userватися\n",
      "I think that you need to know that you can trust her.  It takes time for you to see that she can be trusted.  I would suggest that you take a break from each other for a few days.  Then, when you are ready, talk to her about what you want from her.  Then, she can tell you what she wants from you.  I wish you the best.  I hope that you can find your way to trust.  I know that it will be worth it.  I hope that you can find a way to work this out.  I know that it is\n",
      "\n",
      "[Baseline ]: user\n",
      "I didn't trust my wife when I found out that she had a new guy friend that she was texting and calling. I investigated him before I found out that he was gay and that there was nothing going on. Now all my wife and I do is fight about trust.\n",
      "assistant\n",
      "I don't trust my wife when I found out that she had a new guy friend that she was texting and calling. I investigated him before I found out that he was gay and that there was nothing going on. Now all my wife and I do is fight about trust..readdir\n",
      "I didn't trust my wife when I found out that she had a new guy friend that she was texting and calling. I investigated him before I found out that he was gay and that there was nothing going on. Now all my wife and I do is fight about trust..readdir\n",
      "I didn't trust my wife when I found out that she had a new guy friend that she was texting and calling. I investigated him before I found out that he was gay and that there was nothing going on. Now all my wife and I do is fight about trust..readdir\n",
      "I didn't trust my wife when I found out that she had a new guy friend that she was texting and calling. I investigated him before I\n",
      "\n",
      "\n",
      "[Context]: I don't know what to say. I have never really known who I am.\n",
      "\n",
      "[Reference]: What exactly is it that you are looking for? Different people define themselves in different ways. For example, one person may define himself by his values and morals while another identifies herself by her personality and characteristics. Still, another person may define himself by his interests and hobbies. Learning who you are as a person can take time and life experience. At the same time, who you are may change according to what experiences you have had and how you have dealt with them or felt about them. Try viewing the journey of finding yourself as exciting and ongoing. Allow yourself to feel emotions and learn how they relate to the experiences you have. This may help you to know more about what you value, what you like and dislike, and what you want for yourself in life. Best of luck to you!\n",
      "\n",
      "[Finetuned]: user\n",
      "I don't know what to say. I have never really known who I am.\n",
      "assistant\n",
      "I'm sorry that you're struggling with this. I hope that you find a therapist who can help you. It sounds like you are in a very difficult place right now. I would suggest that you look into the process of getting to know yourself better. You can do this by journaling, writing about yourself and how you feel. Try to really be honest with yourself and write about how you feel. If you are able to write about how you feel, this may help you to understand yourself better. Try to write about what you like and dislike. Try to write about what you do well and what you don't do so well. Try to write about the people that you interact with. Try to write about the things that you are passionate about. Try to write about things that you are scared of. Try to write about things that you are proud of. Try to write about things that you are curious about. Try to write about\n",
      "\n",
      "[Baseline ]: user\n",
      "I don't know what to say. I have never really known who I am.\n",
      "assistant\n",
      "I don't know what to say. I have never really known who I am. republice\n",
      "I don't know what to say. I have never really known who I am. republice\n",
      "I don't know what to say. I have never really known who I am. republice\n",
      "I don't know what to say. I have never really known who I am. republice\n",
      "I don't know what to say. I have never really known who I am. republice\n",
      "I don't know what to say. I have never really known who I am. republice\n",
      "I don't know what to say. I have never really known who I am. republice\n",
      "I don't know what to say. I have never really known who I am. republice\n",
      "I don't know what to say. I have never really known who I am. republice\n",
      "I don't know what to say. I have never really known who I am. republice\n",
      "I don't know what to say. I have\n",
      "\n",
      "\n",
      "[Context]: I am a really shy person. I'm currently in a graduate program which requires lots of presentations, but they always make me feel stressed out and less confident. How can I get more confident?\n",
      "\n",
      "[Reference]: I can offer you hypnosis for confidence in presentations, via Skype, if you're in Cali.\n",
      "\n",
      "[Finetuned]: user\n",
      "I am a really shy person. I'm currently in a graduate program which requires lots of presentations, but they always make me feel stressed out and less confident. How can I get more confident?\n",
      "assistant\n",
      "Hi there! I'm so glad you're here! It sounds like you're really nervous about these presentations. I'm going to start by saying that it's normal to feel nervous when you're talking in front of an audience. It's a great opportunity to learn something new and grow as a person. I'm also going to say that it's not just about the presentations, it's also about how you feel about yourself and how you present yourself. I know it's hard to believe, but it is possible to feel confident when you're talking in front of an audience. I want to give you some tips on how to do that. The first tip is to practice. The more you practice, the more confident you'll feel. It's also important to know your audience. Who are they? What do they want? What do they need? How can you connect with them? It's also important to have a clear message that you want to convey. What is your message? What\n",
      "\n",
      "[Baseline ]: user\n",
      "I am a really shy person. I'm currently in a graduate program which requires lots of presentations, but they always make me feel stressed out and less confident. How can I get more confident?\n",
      "assistant\n",
      "I am a really shy person. I'm currently in a graduate program which requires lots of presentations, but they always make me feel stressed out and less confident. How can I get more confident?\n",
      "I am a really shy person. I'm currently in a graduate program which requires lots of presentations, but they always make me feel stressed out and less confident. How can I get more confident?\n",
      "I am a really shy person. I'm currently in a graduate program which requires lots of presentations, but they always make me feel stressed out and less confident. How can I get more confident?\n",
      "I am a really shy person. I'm currently in a graduate program which requires lots of presentations, but they always make me feel stressed out and less confident. How can I get more confident?\n",
      "I am a really shy person. I'm currently in a graduate program which requires lots of presentations, but they always make me feel stressed out and less confident. How can I get more confident?\n",
      "I am a really shy\n",
      "\n"
     ]
    }
   ],
   "source": [
    "# Display results\n",
    "print(\"\\n=== Evaluation Results ===\")\n",
    "print(\"[Finetuned Model]\")\n",
    "print(f\"ROUGE-L: {ft_rouge['rougeL']:.4f}\")\n",
    "print(f\"BERTScore (F1): {sum(ft_bert['f1']) / len(ft_bert['f1']):.4f}\")\n",
    "\n",
    "print(\"\\n[Baseline Model]\")\n",
    "print(f\"ROUGE-L: {base_rouge['rougeL']:.4f}\")\n",
    "print(f\"BERTScore (F1): {sum(base_bert['f1']) / len(base_bert['f1']):.4f}\")\n",
    "\n",
    "# Print a few samples\n",
    "print(\"\\n=== Sample Comparison ===\")\n",
    "for i in range(3):\n",
    "    print(f\"\\n[Context]: {test_set[i]['Context']}\\n\")\n",
    "    print(f\"[Reference]: {refs[i]}\\n\")\n",
    "    print(f\"[Finetuned]: {ft_preds[i]}\\n\")\n",
    "    print(f\"[Baseline ]: {base_preds[i]}\\n\")"
   ]
  },
  {
   "cell_type": "code",
   "execution_count": null,
   "metadata": {
    "id": "54oFcs9Pitf7"
   },
   "outputs": [],
   "source": []
  }
 ],
 "metadata": {
  "accelerator": "GPU",
  "colab": {
   "authorship_tag": "ABX9TyNgV6CbEXlcw/qZloG6dtFf",
   "gpuType": "T4",
   "provenance": []
  },
  "kernelspec": {
   "display_name": "Python 3",
   "name": "python3"
  },
  "language_info": {
   "name": "python"
  }
 },
 "nbformat": 4,
 "nbformat_minor": 0
}
